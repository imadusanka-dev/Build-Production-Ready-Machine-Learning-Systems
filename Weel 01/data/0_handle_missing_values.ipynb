{
 "cells": [
  {
   "cell_type": "code",
   "execution_count": 20,
   "id": "812aab18",
   "metadata": {},
   "outputs": [
    {
     "name": "stdout",
     "output_type": "stream",
     "text": [
      "Requirement already satisfied: numpy in /opt/anaconda3/envs/bprmls/lib/python3.11/site-packages (from -r requirements.txt (line 1)) (2.3.1)\n",
      "Requirement already satisfied: pandas in /opt/anaconda3/envs/bprmls/lib/python3.11/site-packages (from -r requirements.txt (line 2)) (2.3.1)\n",
      "Requirement already satisfied: scikit-learn in /opt/anaconda3/envs/bprmls/lib/python3.11/site-packages (from -r requirements.txt (line 3)) (1.7.0)\n",
      "Requirement already satisfied: openai in /opt/anaconda3/envs/bprmls/lib/python3.11/site-packages (from -r requirements.txt (line 4)) (1.95.1)\n",
      "Requirement already satisfied: groq in /opt/anaconda3/envs/bprmls/lib/python3.11/site-packages (from -r requirements.txt (line 5)) (0.30.0)\n",
      "Requirement already satisfied: seaborn in /opt/anaconda3/envs/bprmls/lib/python3.11/site-packages (from -r requirements.txt (line 6)) (0.13.2)\n",
      "Collecting dotenv (from -r requirements.txt (line 7))\n",
      "  Downloading dotenv-0.9.9-py2.py3-none-any.whl.metadata (279 bytes)\n",
      "Requirement already satisfied: python-dateutil>=2.8.2 in /opt/anaconda3/envs/bprmls/lib/python3.11/site-packages (from pandas->-r requirements.txt (line 2)) (2.9.0.post0)\n",
      "Requirement already satisfied: pytz>=2020.1 in /opt/anaconda3/envs/bprmls/lib/python3.11/site-packages (from pandas->-r requirements.txt (line 2)) (2025.2)\n",
      "Requirement already satisfied: tzdata>=2022.7 in /opt/anaconda3/envs/bprmls/lib/python3.11/site-packages (from pandas->-r requirements.txt (line 2)) (2025.2)\n",
      "Requirement already satisfied: scipy>=1.8.0 in /opt/anaconda3/envs/bprmls/lib/python3.11/site-packages (from scikit-learn->-r requirements.txt (line 3)) (1.16.0)\n",
      "Requirement already satisfied: joblib>=1.2.0 in /opt/anaconda3/envs/bprmls/lib/python3.11/site-packages (from scikit-learn->-r requirements.txt (line 3)) (1.5.1)\n",
      "Requirement already satisfied: threadpoolctl>=3.1.0 in /opt/anaconda3/envs/bprmls/lib/python3.11/site-packages (from scikit-learn->-r requirements.txt (line 3)) (3.6.0)\n",
      "Requirement already satisfied: anyio<5,>=3.5.0 in /opt/anaconda3/envs/bprmls/lib/python3.11/site-packages (from openai->-r requirements.txt (line 4)) (4.9.0)\n",
      "Requirement already satisfied: distro<2,>=1.7.0 in /opt/anaconda3/envs/bprmls/lib/python3.11/site-packages (from openai->-r requirements.txt (line 4)) (1.9.0)\n",
      "Requirement already satisfied: httpx<1,>=0.23.0 in /opt/anaconda3/envs/bprmls/lib/python3.11/site-packages (from openai->-r requirements.txt (line 4)) (0.28.1)\n",
      "Requirement already satisfied: jiter<1,>=0.4.0 in /opt/anaconda3/envs/bprmls/lib/python3.11/site-packages (from openai->-r requirements.txt (line 4)) (0.10.0)\n",
      "Requirement already satisfied: pydantic<3,>=1.9.0 in /opt/anaconda3/envs/bprmls/lib/python3.11/site-packages (from openai->-r requirements.txt (line 4)) (2.11.7)\n",
      "Requirement already satisfied: sniffio in /opt/anaconda3/envs/bprmls/lib/python3.11/site-packages (from openai->-r requirements.txt (line 4)) (1.3.1)\n",
      "Requirement already satisfied: tqdm>4 in /opt/anaconda3/envs/bprmls/lib/python3.11/site-packages (from openai->-r requirements.txt (line 4)) (4.67.1)\n",
      "Requirement already satisfied: typing-extensions<5,>=4.11 in /opt/anaconda3/envs/bprmls/lib/python3.11/site-packages (from openai->-r requirements.txt (line 4)) (4.14.1)\n",
      "Requirement already satisfied: idna>=2.8 in /opt/anaconda3/envs/bprmls/lib/python3.11/site-packages (from anyio<5,>=3.5.0->openai->-r requirements.txt (line 4)) (3.10)\n",
      "Requirement already satisfied: certifi in /opt/anaconda3/envs/bprmls/lib/python3.11/site-packages (from httpx<1,>=0.23.0->openai->-r requirements.txt (line 4)) (2025.7.9)\n",
      "Requirement already satisfied: httpcore==1.* in /opt/anaconda3/envs/bprmls/lib/python3.11/site-packages (from httpx<1,>=0.23.0->openai->-r requirements.txt (line 4)) (1.0.9)\n",
      "Requirement already satisfied: h11>=0.16 in /opt/anaconda3/envs/bprmls/lib/python3.11/site-packages (from httpcore==1.*->httpx<1,>=0.23.0->openai->-r requirements.txt (line 4)) (0.16.0)\n",
      "Requirement already satisfied: annotated-types>=0.6.0 in /opt/anaconda3/envs/bprmls/lib/python3.11/site-packages (from pydantic<3,>=1.9.0->openai->-r requirements.txt (line 4)) (0.7.0)\n",
      "Requirement already satisfied: pydantic-core==2.33.2 in /opt/anaconda3/envs/bprmls/lib/python3.11/site-packages (from pydantic<3,>=1.9.0->openai->-r requirements.txt (line 4)) (2.33.2)\n",
      "Requirement already satisfied: typing-inspection>=0.4.0 in /opt/anaconda3/envs/bprmls/lib/python3.11/site-packages (from pydantic<3,>=1.9.0->openai->-r requirements.txt (line 4)) (0.4.1)\n",
      "Requirement already satisfied: matplotlib!=3.6.1,>=3.4 in /opt/anaconda3/envs/bprmls/lib/python3.11/site-packages (from seaborn->-r requirements.txt (line 6)) (3.10.3)\n",
      "Collecting python-dotenv (from dotenv->-r requirements.txt (line 7))\n",
      "  Downloading python_dotenv-1.1.1-py3-none-any.whl.metadata (24 kB)\n",
      "Requirement already satisfied: contourpy>=1.0.1 in /opt/anaconda3/envs/bprmls/lib/python3.11/site-packages (from matplotlib!=3.6.1,>=3.4->seaborn->-r requirements.txt (line 6)) (1.3.2)\n",
      "Requirement already satisfied: cycler>=0.10 in /opt/anaconda3/envs/bprmls/lib/python3.11/site-packages (from matplotlib!=3.6.1,>=3.4->seaborn->-r requirements.txt (line 6)) (0.12.1)\n",
      "Requirement already satisfied: fonttools>=4.22.0 in /opt/anaconda3/envs/bprmls/lib/python3.11/site-packages (from matplotlib!=3.6.1,>=3.4->seaborn->-r requirements.txt (line 6)) (4.59.0)\n",
      "Requirement already satisfied: kiwisolver>=1.3.1 in /opt/anaconda3/envs/bprmls/lib/python3.11/site-packages (from matplotlib!=3.6.1,>=3.4->seaborn->-r requirements.txt (line 6)) (1.4.8)\n",
      "Requirement already satisfied: packaging>=20.0 in /opt/anaconda3/envs/bprmls/lib/python3.11/site-packages (from matplotlib!=3.6.1,>=3.4->seaborn->-r requirements.txt (line 6)) (25.0)\n",
      "Requirement already satisfied: pillow>=8 in /opt/anaconda3/envs/bprmls/lib/python3.11/site-packages (from matplotlib!=3.6.1,>=3.4->seaborn->-r requirements.txt (line 6)) (11.3.0)\n",
      "Requirement already satisfied: pyparsing>=2.3.1 in /opt/anaconda3/envs/bprmls/lib/python3.11/site-packages (from matplotlib!=3.6.1,>=3.4->seaborn->-r requirements.txt (line 6)) (3.2.3)\n",
      "Requirement already satisfied: six>=1.5 in /opt/anaconda3/envs/bprmls/lib/python3.11/site-packages (from python-dateutil>=2.8.2->pandas->-r requirements.txt (line 2)) (1.17.0)\n",
      "Downloading dotenv-0.9.9-py2.py3-none-any.whl (1.9 kB)\n",
      "Downloading python_dotenv-1.1.1-py3-none-any.whl (20 kB)\n",
      "Installing collected packages: python-dotenv, dotenv\n",
      "\u001b[2K   \u001b[90m━━━━━━━━━━━━━━━━━━━━━━━━━━━━━━━━━━━━━━━━\u001b[0m \u001b[32m2/2\u001b[0m [dotenv]\n",
      "\u001b[1A\u001b[2KSuccessfully installed dotenv-0.9.9 python-dotenv-1.1.1\n",
      "Note: you may need to restart the kernel to use updated packages.\n"
     ]
    }
   ],
   "source": [
    "%pip install -r requirements.txt"
   ]
  },
  {
   "cell_type": "markdown",
   "id": "36a076d1",
   "metadata": {},
   "source": [
    "## 1. Import Dependancies"
   ]
  },
  {
   "cell_type": "code",
   "execution_count": 21,
   "id": "c9a11069",
   "metadata": {},
   "outputs": [
    {
     "data": {
      "text/plain": [
       "True"
      ]
     },
     "execution_count": 21,
     "metadata": {},
     "output_type": "execute_result"
    }
   ],
   "source": [
    "from enum import Enum\n",
    "import pandas as pd\n",
    "import openai, groq\n",
    "import numpy as np\n",
    "import seaborn as sns\n",
    "from pydantic import BaseModel\n",
    "from dotenv import load_dotenv\n",
    "\n",
    "load_dotenv()"
   ]
  },
  {
   "cell_type": "markdown",
   "id": "9d8df71c",
   "metadata": {},
   "source": [
    "## 2. Basic Information"
   ]
  },
  {
   "cell_type": "code",
   "execution_count": 3,
   "id": "7cbdd8bd",
   "metadata": {},
   "outputs": [],
   "source": [
    "df = pd.read_csv('./raw/CEHHbInToW.csv')"
   ]
  },
  {
   "cell_type": "code",
   "execution_count": null,
   "id": "2bafb19e",
   "metadata": {},
   "outputs": [
    {
     "data": {
      "text/plain": [
       "RowNumber            0\n",
       "CustomerId           0\n",
       "Firstname            7\n",
       "Lastname             6\n",
       "CreditScore          0\n",
       "Geography            0\n",
       "Gender             108\n",
       "Age                600\n",
       "Tenure               0\n",
       "Balance              0\n",
       "NumOfProducts        0\n",
       "HasCrCard            0\n",
       "IsActiveMember       0\n",
       "EstimatedSalary      0\n",
       "Exited               0\n",
       "dtype: int64"
      ]
     },
     "execution_count": 27,
     "metadata": {},
     "output_type": "execute_result"
    }
   ],
   "source": [
    "# Number of null values in each column\n",
    "df.isnull().sum()"
   ]
  },
  {
   "cell_type": "markdown",
   "id": "aa9267fb",
   "metadata": {},
   "source": [
    "## 3. Handle Missing Values"
   ]
  },
  {
   "cell_type": "markdown",
   "id": "a72f1f2b",
   "metadata": {},
   "source": [
    "### 3.1 Deletion"
   ]
  },
  {
   "cell_type": "markdown",
   "id": "f8c8240a",
   "metadata": {},
   "source": [
    "axis = 1 -> check each column and drop if atleast 1 null value consists of <br>\n",
    "axis = 0 -> check each row and drop if atleast 1 null value consists of\n"
   ]
  },
  {
   "cell_type": "code",
   "execution_count": null,
   "id": "e8310c17",
   "metadata": {},
   "outputs": [
    {
     "data": {
      "text/plain": [
       "''"
      ]
     },
     "execution_count": 5,
     "metadata": {},
     "output_type": "execute_result"
    }
   ],
   "source": [
    "df_cp = df.copy()\n",
    "df_cp = df_cp.dropna(axis=0)"
   ]
  },
  {
   "cell_type": "markdown",
   "id": "5143e8f9",
   "metadata": {},
   "source": [
    "### 3.2 Inputation"
   ]
  },
  {
   "cell_type": "markdown",
   "id": "5acf5cb1",
   "metadata": {},
   "source": [
    "#### 3.2.1 Age"
   ]
  },
  {
   "cell_type": "code",
   "execution_count": 9,
   "id": "52d5e7c2",
   "metadata": {},
   "outputs": [
    {
     "name": "stdout",
     "output_type": "stream",
     "text": [
      "Mean Age: 38.91, Median Age: 37.0\n"
     ]
    }
   ],
   "source": [
    "mean = df['Age'].mean()\n",
    "median = df['Age'].median()\n",
    "mean = round(mean, 2)\n",
    "\n",
    "print(f'Mean Age: {mean}, Median Age: {median}')"
   ]
  },
  {
   "cell_type": "code",
   "execution_count": 11,
   "id": "d476f74f",
   "metadata": {},
   "outputs": [
    {
     "data": {
      "text/plain": [
       "<Axes: xlabel='Age', ylabel='Count'>"
      ]
     },
     "execution_count": 11,
     "metadata": {},
     "output_type": "execute_result"
    },
    {
     "data": {
      "image/png": "[encoded data removed]",
      "text/plain": [
       "<Figure size 640x480 with 1 Axes>"
      ]
     },
     "metadata": {},
     "output_type": "display_data"
    }
   ],
   "source": [
    "sns.histplot(df['Age'], bins=30)"
   ]
  },
  {
   "cell_type": "code",
   "execution_count": 14,
   "id": "87ceb41b",
   "metadata": {},
   "outputs": [],
   "source": [
    "df_impute = df.copy()"
   ]
  },
  {
   "cell_type": "code",
   "execution_count": 16,
   "id": "b2cd0755",
   "metadata": {},
   "outputs": [
    {
     "data": {
      "text/plain": [
       "RowNumber            0\n",
       "CustomerId           0\n",
       "Firstname            7\n",
       "Lastname             6\n",
       "CreditScore          0\n",
       "Geography            0\n",
       "Gender             108\n",
       "Age                  0\n",
       "Tenure               0\n",
       "Balance              0\n",
       "NumOfProducts        0\n",
       "HasCrCard            0\n",
       "IsActiveMember       0\n",
       "EstimatedSalary      0\n",
       "Exited               0\n",
       "dtype: int64"
      ]
     },
     "execution_count": 16,
     "metadata": {},
     "output_type": "execute_result"
    }
   ],
   "source": [
    "# Fill missing values in 'Age' with the mean\n",
    "df_impute.loc[:,'Age'] = df_impute['Age'].fillna(mean)\n",
    "df_impute.isnull().sum()"
   ]
  },
  {
   "cell_type": "markdown",
   "id": "4dd77424",
   "metadata": {},
   "source": [
    "#### 3.2.2 Gender"
   ]
  },
  {
   "cell_type": "code",
   "execution_count": 22,
   "id": "4eb3c205",
   "metadata": {},
   "outputs": [],
   "source": [
    "class Gender(str, Enum):\n",
    "    MALE = \"Male\"\n",
    "    FEMALE = \"Female\"\n",
    "\n",
    "class GenderPrediction(BaseModel):\n",
    "    firstname: str\n",
    "    lastname: str\n",
    "    pred_gender: Gender\n",
    "\n",
    "def predict_gender(firstname: str, lastname: str):\n",
    "    prompt = f\"\"\"\n",
    "                What is the most likely gender (Male or Female) for someone with the first name '{firstname}'\n",
    "                and last name '{lastname}' ?\n",
    "\n",
    "                Your response only consists of one word: Male or Female\n",
    "            \"\"\"\n",
    "    \n",
    "    response = groq.Groq().chat.completions.create(\n",
    "        model=\"llama-3.3-70b-versatile\",\n",
    "        messages=[{\n",
    "            \"role\": \"user\",\n",
    "            \"content\": prompt\n",
    "        }]\n",
    "    )\n",
    "\n",
    "    predict_gender = response.choices[0].message.content.strip()\n",
    "    return predict_gender"
   ]
  },
  {
   "cell_type": "code",
   "execution_count": 36,
   "id": "2766f832",
   "metadata": {},
   "outputs": [
    {
     "name": "stdout",
     "output_type": "stream",
     "text": [
      "Eva Wilson : Female\n",
      "Ivy Johnson : Female\n",
      "David Taylor : Male\n",
      "Frank Davis : Male\n",
      "Jack Wilson : Male\n",
      "David Miller : Male\n",
      "Eva Taylor : Female\n",
      "Grace Johnson : Female\n",
      "Hank Miller : Male\n",
      "Frank Williams : Male\n",
      "Alice Davis : Female\n",
      "Alice Brown : Female\n",
      "Alice Garcia : Female\n",
      "Bob Jones : Male\n",
      "Jack Davis : Male\n",
      "Grace Williams : Female\n",
      "Ivy Jones : Female\n",
      "David Smith : Male\n",
      "David Miller : Male\n",
      "Eva Williams : Female\n",
      "Frank Garcia : Male\n",
      "Alice Wilson : Female\n",
      "Carol Jones : Female\n",
      "Hank Davis : Male\n",
      "Ivy Williams : Female\n",
      "Hank Smith : Male\n",
      "Ivy Jones : Female\n",
      "Alice Brown : Female\n",
      "Eva Taylor : Female\n",
      "Carol Williams : Female\n",
      "Jack Williams : Male\n",
      "Ivy Brown : Female\n",
      "David Brown : Male\n",
      "Bob Smith : Male\n",
      "Frank Wilson : Male\n",
      "Bob Williams : Male\n",
      "Ivy Johnson : Female\n",
      "Jack Taylor : Male\n",
      "David Davis : Male\n",
      "David Garcia : Male\n",
      "Eva Brown : Female\n",
      "Frank Wilson : Male\n",
      "Jack Davis : Male\n",
      "Eva Miller : Female\n",
      "Grace Williams : Female\n",
      "Bob Jones : Male\n",
      "David Taylor : Male\n",
      "Frank Smith : Male\n",
      "Ivy Jones : Female\n",
      "David Williams : Male\n",
      "Grace Jones : Female\n",
      "Grace Miller : Female\n",
      "Bob Taylor : Male\n",
      "Grace Miller : Female\n",
      "Bob Taylor : Male\n",
      "Hank Jones : Male\n",
      "Hank Wilson : Male\n",
      "Grace Smith : Female\n",
      "Bob Johnson : Male\n",
      "Hank Brown : Male\n",
      "Carol Jones : Female\n",
      "Hank Williams : Male\n",
      "Hank Miller : Male\n",
      "Frank Davis : Male\n",
      "Ivy Wilson : Female\n",
      "Hank Jones : Male\n",
      "Bob Jones : Male\n",
      "Frank Brown : Male\n",
      "Frank Smith : Male\n",
      "Bob Taylor : Male\n",
      "Alice Johnson : Female\n",
      "Ivy Wilson : Female\n",
      "Grace Brown : Female\n",
      "Eva Davis : Female\n",
      "Eva Wilson : Female\n",
      "Frank Miller : Male\n",
      "David Miller : Male\n",
      "Carol Brown : Female\n",
      "Eva Miller : Female\n",
      "Alice Garcia : Female\n",
      "Carol Davis : Female\n",
      "Frank Smith : Male\n",
      "Ivy Miller : Female\n",
      "Bob Garcia : Male\n",
      "Alice Garcia : Female\n",
      "Frank Smith : Male\n",
      "Grace Johnson : Female\n",
      "Eva Garcia : Female\n",
      "Alice Jones : Female\n",
      "David Wilson : Male\n",
      "Ivy Garcia : Female\n",
      "Frank Wilson : Male\n",
      "Frank Wilson : Male\n",
      "Bob Williams : Male\n",
      "Ivy Johnson : Female\n",
      "David Brown : Male\n",
      "Ivy Miller : Female\n",
      "Carol Smith : Female\n",
      "David Williams : Male\n",
      "Hank Williams : Male\n",
      "David Brown : Male\n",
      "Carol Garcia : Female\n",
      "Hank Miller : Male\n",
      "Grace Wilson : Female\n",
      "Hank Johnson : Male\n",
      "Grace Jones : Female\n",
      "Alice Davis : Female\n",
      "Jack Brown : Male\n"
     ]
    }
   ],
   "source": [
    "missing_gender_index = df_impute['Gender'].isnull()\n",
    "for idx in df_impute[missing_gender_index].index:\n",
    "    first_name = df_impute.loc[idx, 'Firstname']\n",
    "    last_name = df_impute.loc[idx, 'Lastname']\n",
    "    gender = predict_gender(first_name, last_name)\n",
    "    if gender:\n",
    "        df_impute.loc[idx, 'Gender'] = gender\n",
    "        print(f\"{first_name} {last_name} : {gender}\")\n",
    "    else:\n",
    "        print(f\"{first_name} {last_name} : No Gender Detected\")"
   ]
  },
  {
   "cell_type": "code",
   "execution_count": null,
   "id": "c1e198e2",
   "metadata": {},
   "outputs": [
    {
     "ename": "KeyError",
     "evalue": "\"['RowNumber', 'CustomerId', 'Firstname', 'Lastname'] not found in axis\"",
     "output_type": "error",
     "traceback": [
      "\u001b[31m---------------------------------------------------------------------------\u001b[39m",
      "\u001b[31mKeyError\u001b[39m                                  Traceback (most recent call last)",
      "\u001b[36mCell\u001b[39m\u001b[36m \u001b[39m\u001b[32mIn[38]\u001b[39m\u001b[32m, line 1\u001b[39m\n\u001b[32m----> \u001b[39m\u001b[32m1\u001b[39m df_impute = \u001b[43mdf_impute\u001b[49m\u001b[43m.\u001b[49m\u001b[43mdrop\u001b[49m\u001b[43m(\u001b[49m\n\u001b[32m      2\u001b[39m \u001b[43m    \u001b[49m\u001b[43mcolumns\u001b[49m\u001b[43m=\u001b[49m\u001b[43m[\u001b[49m\n\u001b[32m      3\u001b[39m \u001b[43m        \u001b[49m\u001b[33;43m'\u001b[39;49m\u001b[33;43mRowNumber\u001b[39;49m\u001b[33;43m'\u001b[39;49m\u001b[43m,\u001b[49m\n\u001b[32m      4\u001b[39m \u001b[43m        \u001b[49m\u001b[33;43m'\u001b[39;49m\u001b[33;43mCustomerId\u001b[39;49m\u001b[33;43m'\u001b[39;49m\u001b[43m,\u001b[49m\n\u001b[32m      5\u001b[39m \u001b[43m        \u001b[49m\u001b[33;43m'\u001b[39;49m\u001b[33;43mFirstname\u001b[39;49m\u001b[33;43m'\u001b[39;49m\u001b[43m,\u001b[49m\n\u001b[32m      6\u001b[39m \u001b[43m        \u001b[49m\u001b[33;43m'\u001b[39;49m\u001b[33;43mLastname\u001b[39;49m\u001b[33;43m'\u001b[39;49m\n\u001b[32m      7\u001b[39m \u001b[43m    \u001b[49m\u001b[43m]\u001b[49m\n\u001b[32m      8\u001b[39m \u001b[43m)\u001b[49m\n",
      "\u001b[36mFile \u001b[39m\u001b[32m/opt/anaconda3/envs/bprmls/lib/python3.11/site-packages/pandas/core/frame.py:5588\u001b[39m, in \u001b[36mDataFrame.drop\u001b[39m\u001b[34m(self, labels, axis, index, columns, level, inplace, errors)\u001b[39m\n\u001b[32m   5440\u001b[39m \u001b[38;5;28;01mdef\u001b[39;00m\u001b[38;5;250m \u001b[39m\u001b[34mdrop\u001b[39m(\n\u001b[32m   5441\u001b[39m     \u001b[38;5;28mself\u001b[39m,\n\u001b[32m   5442\u001b[39m     labels: IndexLabel | \u001b[38;5;28;01mNone\u001b[39;00m = \u001b[38;5;28;01mNone\u001b[39;00m,\n\u001b[32m   (...)\u001b[39m\u001b[32m   5449\u001b[39m     errors: IgnoreRaise = \u001b[33m\"\u001b[39m\u001b[33mraise\u001b[39m\u001b[33m\"\u001b[39m,\n\u001b[32m   5450\u001b[39m ) -> DataFrame | \u001b[38;5;28;01mNone\u001b[39;00m:\n\u001b[32m   5451\u001b[39m \u001b[38;5;250m    \u001b[39m\u001b[33;03m\"\"\"\u001b[39;00m\n\u001b[32m   5452\u001b[39m \u001b[33;03m    Drop specified labels from rows or columns.\u001b[39;00m\n\u001b[32m   5453\u001b[39m \n\u001b[32m   (...)\u001b[39m\u001b[32m   5586\u001b[39m \u001b[33;03m            weight  1.0     0.8\u001b[39;00m\n\u001b[32m   5587\u001b[39m \u001b[33;03m    \"\"\"\u001b[39;00m\n\u001b[32m-> \u001b[39m\u001b[32m5588\u001b[39m     \u001b[38;5;28;01mreturn\u001b[39;00m \u001b[38;5;28;43msuper\u001b[39;49m\u001b[43m(\u001b[49m\u001b[43m)\u001b[49m\u001b[43m.\u001b[49m\u001b[43mdrop\u001b[49m\u001b[43m(\u001b[49m\n\u001b[32m   5589\u001b[39m \u001b[43m        \u001b[49m\u001b[43mlabels\u001b[49m\u001b[43m=\u001b[49m\u001b[43mlabels\u001b[49m\u001b[43m,\u001b[49m\n\u001b[32m   5590\u001b[39m \u001b[43m        \u001b[49m\u001b[43maxis\u001b[49m\u001b[43m=\u001b[49m\u001b[43maxis\u001b[49m\u001b[43m,\u001b[49m\n\u001b[32m   5591\u001b[39m \u001b[43m        \u001b[49m\u001b[43mindex\u001b[49m\u001b[43m=\u001b[49m\u001b[43mindex\u001b[49m\u001b[43m,\u001b[49m\n\u001b[32m   5592\u001b[39m \u001b[43m        \u001b[49m\u001b[43mcolumns\u001b[49m\u001b[43m=\u001b[49m\u001b[43mcolumns\u001b[49m\u001b[43m,\u001b[49m\n\u001b[32m   5593\u001b[39m \u001b[43m        \u001b[49m\u001b[43mlevel\u001b[49m\u001b[43m=\u001b[49m\u001b[43mlevel\u001b[49m\u001b[43m,\u001b[49m\n\u001b[32m   5594\u001b[39m \u001b[43m        \u001b[49m\u001b[43minplace\u001b[49m\u001b[43m=\u001b[49m\u001b[43minplace\u001b[49m\u001b[43m,\u001b[49m\n\u001b[32m   5595\u001b[39m \u001b[43m        \u001b[49m\u001b[43merrors\u001b[49m\u001b[43m=\u001b[49m\u001b[43merrors\u001b[49m\u001b[43m,\u001b[49m\n\u001b[32m   5596\u001b[39m \u001b[43m    \u001b[49m\u001b[43m)\u001b[49m\n",
      "\u001b[36mFile \u001b[39m\u001b[32m/opt/anaconda3/envs/bprmls/lib/python3.11/site-packages/pandas/core/generic.py:4807\u001b[39m, in \u001b[36mNDFrame.drop\u001b[39m\u001b[34m(self, labels, axis, index, columns, level, inplace, errors)\u001b[39m\n\u001b[32m   4805\u001b[39m \u001b[38;5;28;01mfor\u001b[39;00m axis, labels \u001b[38;5;129;01min\u001b[39;00m axes.items():\n\u001b[32m   4806\u001b[39m     \u001b[38;5;28;01mif\u001b[39;00m labels \u001b[38;5;129;01mis\u001b[39;00m \u001b[38;5;129;01mnot\u001b[39;00m \u001b[38;5;28;01mNone\u001b[39;00m:\n\u001b[32m-> \u001b[39m\u001b[32m4807\u001b[39m         obj = \u001b[43mobj\u001b[49m\u001b[43m.\u001b[49m\u001b[43m_drop_axis\u001b[49m\u001b[43m(\u001b[49m\u001b[43mlabels\u001b[49m\u001b[43m,\u001b[49m\u001b[43m \u001b[49m\u001b[43maxis\u001b[49m\u001b[43m,\u001b[49m\u001b[43m \u001b[49m\u001b[43mlevel\u001b[49m\u001b[43m=\u001b[49m\u001b[43mlevel\u001b[49m\u001b[43m,\u001b[49m\u001b[43m \u001b[49m\u001b[43merrors\u001b[49m\u001b[43m=\u001b[49m\u001b[43merrors\u001b[49m\u001b[43m)\u001b[49m\n\u001b[32m   4809\u001b[39m \u001b[38;5;28;01mif\u001b[39;00m inplace:\n\u001b[32m   4810\u001b[39m     \u001b[38;5;28mself\u001b[39m._update_inplace(obj)\n",
      "\u001b[36mFile \u001b[39m\u001b[32m/opt/anaconda3/envs/bprmls/lib/python3.11/site-packages/pandas/core/generic.py:4849\u001b[39m, in \u001b[36mNDFrame._drop_axis\u001b[39m\u001b[34m(self, labels, axis, level, errors, only_slice)\u001b[39m\n\u001b[32m   4847\u001b[39m         new_axis = axis.drop(labels, level=level, errors=errors)\n\u001b[32m   4848\u001b[39m     \u001b[38;5;28;01melse\u001b[39;00m:\n\u001b[32m-> \u001b[39m\u001b[32m4849\u001b[39m         new_axis = \u001b[43maxis\u001b[49m\u001b[43m.\u001b[49m\u001b[43mdrop\u001b[49m\u001b[43m(\u001b[49m\u001b[43mlabels\u001b[49m\u001b[43m,\u001b[49m\u001b[43m \u001b[49m\u001b[43merrors\u001b[49m\u001b[43m=\u001b[49m\u001b[43merrors\u001b[49m\u001b[43m)\u001b[49m\n\u001b[32m   4850\u001b[39m     indexer = axis.get_indexer(new_axis)\n\u001b[32m   4852\u001b[39m \u001b[38;5;66;03m# Case for non-unique axis\u001b[39;00m\n\u001b[32m   4853\u001b[39m \u001b[38;5;28;01melse\u001b[39;00m:\n",
      "\u001b[36mFile \u001b[39m\u001b[32m/opt/anaconda3/envs/bprmls/lib/python3.11/site-packages/pandas/core/indexes/base.py:7136\u001b[39m, in \u001b[36mIndex.drop\u001b[39m\u001b[34m(self, labels, errors)\u001b[39m\n\u001b[32m   7134\u001b[39m \u001b[38;5;28;01mif\u001b[39;00m mask.any():\n\u001b[32m   7135\u001b[39m     \u001b[38;5;28;01mif\u001b[39;00m errors != \u001b[33m\"\u001b[39m\u001b[33mignore\u001b[39m\u001b[33m\"\u001b[39m:\n\u001b[32m-> \u001b[39m\u001b[32m7136\u001b[39m         \u001b[38;5;28;01mraise\u001b[39;00m \u001b[38;5;167;01mKeyError\u001b[39;00m(\u001b[33mf\u001b[39m\u001b[33m\"\u001b[39m\u001b[38;5;132;01m{\u001b[39;00mlabels[mask].tolist()\u001b[38;5;132;01m}\u001b[39;00m\u001b[33m not found in axis\u001b[39m\u001b[33m\"\u001b[39m)\n\u001b[32m   7137\u001b[39m     indexer = indexer[~mask]\n\u001b[32m   7138\u001b[39m \u001b[38;5;28;01mreturn\u001b[39;00m \u001b[38;5;28mself\u001b[39m.delete(indexer)\n",
      "\u001b[31mKeyError\u001b[39m: \"['RowNumber', 'CustomerId', 'Firstname', 'Lastname'] not found in axis\""
     ]
    }
   ],
   "source": [
    "df_impute = df_impute.drop(\n",
    "    columns=[\n",
    "        'RowNumber',\n",
    "        'CustomerId',\n",
    "        'Firstname',\n",
    "        'Lastname'\n",
    "    ]\n",
    ")"
   ]
  },
  {
   "cell_type": "code",
   "execution_count": 40,
   "id": "80e2439e",
   "metadata": {},
   "outputs": [
    {
     "data": {
      "text/plain": [
       "CreditScore        0\n",
       "Geography          0\n",
       "Gender             0\n",
       "Age                0\n",
       "Tenure             0\n",
       "Balance            0\n",
       "NumOfProducts      0\n",
       "HasCrCard          0\n",
       "IsActiveMember     0\n",
       "EstimatedSalary    0\n",
       "Exited             0\n",
       "dtype: int64"
      ]
     },
     "execution_count": 40,
     "metadata": {},
     "output_type": "execute_result"
    }
   ],
   "source": [
    "df_impute.isnull().sum()"
   ]
  },
  {
   "cell_type": "code",
   "execution_count": 41,
   "id": "6dffd205",
   "metadata": {},
   "outputs": [],
   "source": [
    "df_impute.to_csv('processed/ChurnModelling_Missing_Values_Handled.csv', index=False)"
   ]
  },
  {
   "cell_type": "code",
   "execution_count": null,
   "id": "9b93250e",
   "metadata": {},
   "outputs": [],
   "source": []
  }
 ],
 "metadata": {
  "kernelspec": {
   "display_name": "bprmls",
   "language": "python",
   "name": "python3"
  },
  "language_info": {
   "codemirror_mode": {
    "name": "ipython",
    "version": 3
   },
   "file_extension": ".py",
   "mimetype": "text/x-python",
   "name": "python",
   "nbconvert_exporter": "python",
   "pygments_lexer": "ipython3",
   "version": "3.11.13"
  }
 },
 "nbformat": 4,
 "nbformat_minor": 5
}
